{
  "nbformat": 4,
  "nbformat_minor": 0,
  "metadata": {
    "colab": {
      "provenance": [],
      "authorship_tag": "ABX9TyMSX908sxSoSM/WemUFZnSV",
      "include_colab_link": true
    },
    "kernelspec": {
      "name": "python3",
      "display_name": "Python 3"
    },
    "language_info": {
      "name": "python"
    }
  },
  "cells": [
    {
      "cell_type": "markdown",
      "metadata": {
        "id": "view-in-github",
        "colab_type": "text"
      },
      "source": [
        "<a href=\"https://colab.research.google.com/github/Harsh-Anand-Singh/GPTPlayground/blob/main/OrcaAI.ipynb\" target=\"_parent\"><img src=\"https://colab.research.google.com/assets/colab-badge.svg\" alt=\"Open In Colab\"/></a>"
      ]
    },
    {
      "cell_type": "markdown",
      "source": [
        "Install Required Libraries"
      ],
      "metadata": {
        "id": "fTuDa4BDT_yo"
      }
    },
    {
      "cell_type": "code",
      "execution_count": null,
      "metadata": {
        "colab": {
          "base_uri": "https://localhost:8080/"
        },
        "id": "NYlNS1bISmia",
        "outputId": "ab11ceb2-dddb-47b0-8fb7-5a222d5624f3"
      },
      "outputs": [
        {
          "output_type": "stream",
          "name": "stdout",
          "text": [
            "\u001b[?25l     \u001b[90m━━━━━━━━━━━━━━━━━━━━━━━━━━━━━━━━━━━━━━━━\u001b[0m \u001b[32m0.0/320.6 kB\u001b[0m \u001b[31m?\u001b[0m eta \u001b[36m-:--:--\u001b[0m\r\u001b[2K     \u001b[91m━━━━━━━━━━━━━━━━━━━━━━━━━━━━━━━━━━━━━━━\u001b[0m\u001b[91m╸\u001b[0m \u001b[32m317.4/320.6 kB\u001b[0m \u001b[31m9.5 MB/s\u001b[0m eta \u001b[36m0:00:01\u001b[0m\r\u001b[2K     \u001b[90m━━━━━━━━━━━━━━━━━━━━━━━━━━━━━━━━━━━━━━━━\u001b[0m \u001b[32m320.6/320.6 kB\u001b[0m \u001b[31m6.7 MB/s\u001b[0m eta \u001b[36m0:00:00\u001b[0m\n",
            "\u001b[2K     \u001b[90m━━━━━━━━━━━━━━━━━━━━━━━━━━━━━━━━━━━━━━━━\u001b[0m \u001b[32m75.6/75.6 kB\u001b[0m \u001b[31m7.7 MB/s\u001b[0m eta \u001b[36m0:00:00\u001b[0m\n",
            "\u001b[2K     \u001b[90m━━━━━━━━━━━━━━━━━━━━━━━━━━━━━━━━━━━━━━━━\u001b[0m \u001b[32m77.9/77.9 kB\u001b[0m \u001b[31m6.6 MB/s\u001b[0m eta \u001b[36m0:00:00\u001b[0m\n",
            "\u001b[2K     \u001b[90m━━━━━━━━━━━━━━━━━━━━━━━━━━━━━━━━━━━━━━━━\u001b[0m \u001b[32m58.3/58.3 kB\u001b[0m \u001b[31m6.0 MB/s\u001b[0m eta \u001b[36m0:00:00\u001b[0m\n",
            "\u001b[?25h"
          ]
        }
      ],
      "source": [
        "!pip install -q openai\n",
        "!pip install -q python-dotenv"
      ]
    },
    {
      "cell_type": "markdown",
      "source": [
        "Import Libraries"
      ],
      "metadata": {
        "id": "OKx0OoyRUKpo"
      }
    },
    {
      "cell_type": "code",
      "source": [
        "import openai\n",
        "import os\n",
        "import json\n",
        "from dotenv import load_dotenv"
      ],
      "metadata": {
        "id": "5V9wVnX8T1rH"
      },
      "execution_count": null,
      "outputs": []
    },
    {
      "cell_type": "markdown",
      "source": [
        "Setup Open API"
      ],
      "metadata": {
        "id": "DlPnoExyUW7K"
      }
    },
    {
      "cell_type": "code",
      "source": [
        "def setup_openai():\n",
        "    load_dotenv()\n",
        "    openai.api_key = os.getenv('OPENAI_API_KEY')  # Replace with your actual OpenAI API key\n",
        "    print(\"API Key Loaded:\", openai.api_key is not None)"
      ],
      "metadata": {
        "id": "YTDASx3TUNbc"
      },
      "execution_count": null,
      "outputs": []
    },
    {
      "cell_type": "markdown",
      "source": [
        "Create Client"
      ],
      "metadata": {
        "id": "E-cfRPFCUeh9"
      }
    },
    {
      "cell_type": "code",
      "source": [
        "client = setup_openai()"
      ],
      "metadata": {
        "id": "rYovk5AMXCK2"
      },
      "execution_count": null,
      "outputs": []
    },
    {
      "cell_type": "markdown",
      "source": [
        "Sentiment Analysis Function"
      ],
      "metadata": {
        "id": "NLKDAduxWRtt"
      }
    },
    {
      "cell_type": "code",
      "source": [
        "def analyze_sentiment(review):\n",
        "    response = openai.Completion.create(\n",
        "        model=\"gpt-4o\",\n",
        "        prompt=f\"Analyze the sentiment of this review: '{review}' and classify it as Positive, Negative, or Neutral.\",\n",
        "        max_tokens=50\n",
        "    )\n",
        "    sentiment = response.choices[0].text.strip()\n",
        "    return sentiment\n"
      ],
      "metadata": {
        "id": "4dLhXPlUUm9A"
      },
      "execution_count": null,
      "outputs": []
    },
    {
      "cell_type": "markdown",
      "source": [
        "Main Function for Processing Reviews"
      ],
      "metadata": {
        "id": "yVi7izzXWQ6m"
      }
    },
    {
      "cell_type": "code",
      "source": [
        "def main(input_file, output_file):\n",
        "    with open(input_file, 'r') as file:\n",
        "        reviews = file.readlines()\n",
        "\n",
        "    results = []\n",
        "    sentiment_counts = {\"Positive\": 0, \"Negative\": 0, \"Neutral\": 0}\n",
        "\n",
        "    for review in reviews:\n",
        "        sentiment = analyze_sentiment(review)\n",
        "        results.append({'review': review.strip(), 'sentiment': sentiment})\n",
        "\n",
        "        if 'Positive' in sentiment:\n",
        "            sentiment_counts['Positive'] += 1\n",
        "        elif 'Negative' in sentiment:\n",
        "            sentiment_counts['Negative'] += 1\n",
        "        elif 'Neutral' in sentiment:\n",
        "            sentiment_counts['Neutral'] += 1\n",
        "\n",
        "    total_reviews = len(reviews)\n",
        "    sentiment_percentages = {k: (v / total_reviews) * 100 for k, v in sentiment_counts.items()}\n",
        "\n",
        "    with open(output_file, 'w') as file:\n",
        "        json.dump({\n",
        "            \"results\": results,\n",
        "            \"sentiment_counts\": sentiment_counts,\n",
        "            \"sentiment_percentages\": sentiment_percentages\n",
        "        }, file, indent=4)\n",
        "\n",
        "    print(f\"Sentiment Counts: {sentiment_counts}\")\n",
        "    print(f\"Sentiment Percentages: {sentiment_percentages}\")"
      ],
      "metadata": {
        "id": "a-H8g_J0UbCx"
      },
      "execution_count": null,
      "outputs": []
    },
    {
      "cell_type": "markdown",
      "source": [
        "Run the script"
      ],
      "metadata": {
        "id": "Fxnv8GnFW0_V"
      }
    },
    {
      "cell_type": "code",
      "source": [
        "if __name__ == \"__main__\":\n",
        "    input_file = 'product_reviews.txt'  # Input file containing product reviews\n",
        "    output_file = 'sentiment_analysis_results.json'  # Output file to store the results\n",
        "    setup_openai()\n",
        "    main(input_file, output_file)\n"
      ],
      "metadata": {
        "id": "OIWWLulEWX5w"
      },
      "execution_count": null,
      "outputs": []
    }
  ]
}